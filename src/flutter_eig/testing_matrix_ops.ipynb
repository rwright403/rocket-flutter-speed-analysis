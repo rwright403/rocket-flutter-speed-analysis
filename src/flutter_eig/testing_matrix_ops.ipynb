{
 "cells": [
  {
   "cell_type": "code",
   "execution_count": 5,
   "id": "e64ab9f5",
   "metadata": {},
   "outputs": [
    {
     "name": "stdout",
     "output_type": "stream",
     "text": [
      "A:\n",
      " [[0.16212207 0.44831797 0.98240301]\n",
      " [0.10242102 0.59571436 0.69417095]] \n",
      "B:\n",
      " [[0.76819939 0.38825451 0.54268418]\n",
      " [0.6289699  0.63088389 0.57744742]]\n",
      "W:\n",
      " [[0.83173812]\n",
      " [0.84109356]]\n"
     ]
    }
   ],
   "source": [
    "import numpy as np\n",
    "\n",
    "# Example input: arrays of shape (n, 3)\n",
    "A = np.random.rand(2, 3)  # 2 vectors, each of length 3\n",
    "B = np.random.rand(2, 3)\n",
    "\n",
    "print(\"A:\\n\",A,\"\\nB:\\n\",B)\n",
    "\n",
    "# Compute W: elementwise dot products\n",
    "W = np.einsum('ij,ij->i', A, B)  # Shape (10,)\n",
    "\n",
    "# Convert to column vector of scalars (shape: (10, 1))\n",
    "W = W[:, np.newaxis]\n",
    "\n",
    "print(\"W:\\n\",W)"
   ]
  }
 ],
 "metadata": {
  "kernelspec": {
   "display_name": "venv",
   "language": "python",
   "name": "python3"
  },
  "language_info": {
   "codemirror_mode": {
    "name": "ipython",
    "version": 3
   },
   "file_extension": ".py",
   "mimetype": "text/x-python",
   "name": "python",
   "nbconvert_exporter": "python",
   "pygments_lexer": "ipython3",
   "version": "3.11.10"
  }
 },
 "nbformat": 4,
 "nbformat_minor": 5
}
