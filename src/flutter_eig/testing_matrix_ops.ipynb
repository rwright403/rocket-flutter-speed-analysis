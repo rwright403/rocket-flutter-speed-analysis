{
 "cells": [
  {
   "cell_type": "code",
   "execution_count": null,
   "id": "e64ab9f5",
   "metadata": {},
   "outputs": [
    {
     "name": "stdout",
     "output_type": "stream",
     "text": [
      "A:\n",
      " [[0.96662096 0.25569117 0.9402789 ]\n",
      " [0.32906926 0.77585783 0.35174708]] \n",
      "B:\n",
      " [[3.97263518e-01 1.66260113e-01 2.03313222e-04]\n",
      " [9.53619738e-01 9.95396283e-01 5.25851307e-01]]\n",
      "W:\n",
      " [[0.42670566]\n",
      " [1.2710596 ]]\n"
     ]
    }
   ],
   "source": [
    "import numpy as np\n",
    "\n",
    "# Example input: arrays of shape (n, 3)\n",
    "A = np.random.rand(2, 3)  # 2 vectors, each of length 3\n",
    "B = np.random.rand(2, 3)\n",
    "\n",
    "print(\"A:\\n\",A,\"\\nB:\\n\",B)\n",
    "\n",
    "# Compute W: elementwise dot products\n",
    "W = np.einsum('ij,ij->i', A, B)  # Shape (10,)\n",
    "\n",
    "# Convert to column vector of scalars (shape: (10, 1))\n",
    "W = W[:, np.newaxis]\n",
    "\n",
    "print(\"W:\\n\",W)"
   ]
  }
 ],
 "metadata": {
  "kernelspec": {
   "display_name": "venv",
   "language": "python",
   "name": "python3"
  },
  "language_info": {
   "codemirror_mode": {
    "name": "ipython",
    "version": 3
   },
   "file_extension": ".py",
   "mimetype": "text/x-python",
   "name": "python",
   "nbconvert_exporter": "python",
   "pygments_lexer": "ipython3",
   "version": "3.11.10"
  }
 },
 "nbformat": 4,
 "nbformat_minor": 5
}
