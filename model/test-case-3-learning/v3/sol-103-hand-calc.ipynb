{
 "cells": [
  {
   "cell_type": "markdown",
   "metadata": {},
   "source": [
    "Goal: Use a rough hand calc to validate the first few natural frequencies we obtain from sol 103"
   ]
  },
  {
   "cell_type": "code",
   "execution_count": null,
   "metadata": {},
   "outputs": [
    {
     "name": "stdout",
     "output_type": "stream",
     "text": [
      "torision mode check:  20751.265756091496\n",
      "torision mode check:  41502.53151218299\n",
      "torision mode check:  62253.79726827448\n",
      "first 3 natural frequencies:  83.49517259317595 (Hz) 333.9806903727038 (Hz) 751.4565533385836 (Hz)\n",
      "frequencies from nastran sol 103:  61.014243118534154 (Hz) 144.079481117638 (Hz) 357.97541483554033 (Hz)\n"
     ]
    }
   ],
   "source": [
    "import numpy as np\n",
    "\n",
    "### input from nastran sol 103\n",
    "e1 = 1.469678E+05 #(rad^2/s^2)\n",
    "e2 = 8.195284E+05 #(rad^2/s^2)\n",
    "e3 = 5.059017E+06 #(rad^2/s^2)\n",
    "\n",
    "\n",
    "### NOT ALUMINUM: MAGNESIUM PLATE Material Properties:\n",
    "\n",
    "E = 4.5E+10 #Pa\n",
    "G = 1.7E+10 #Pa\n",
    "\n",
    "poisson = E/(2*G)-1\n",
    "#print(poisson_al)\n",
    "\n",
    "### Fin dimensions\n",
    "root_chord = 0.2025 #m\n",
    "tip_chord = 0.1275 #m\n",
    "span = 0.165 #m\n",
    "t = 2e-3 #m\n",
    "\n",
    "average_chord = (root_chord+tip_chord)/2\n",
    "\n",
    "#NOTE: PLATE IS ROUGHLY A SQUARE SO APPROXIMATING FIN AS RECTANGULAR CANTILEVER PLATE TO CHECK NATURAL FREQUENCIES:\n",
    "\n",
    "n = 3 #number of modes to solve\n",
    "natural_frequencies = []\n",
    "\n",
    "for i in range(1, n+1):\n",
    "    #solve bending mode:\n",
    "    D = (E*t**3)/(12*(1-poisson**2))\n",
    "    f_bending_mode = (1/(2*np.pi)) *np.sqrt( (D*np.pi**4)/(span**4)*(i/2)**4 )\n",
    "    natural_frequencies.append( f_bending_mode )\n",
    "\n",
    "\n",
    "    #solve torision mode\n",
    "    I = (average_chord*t**3)/12\n",
    "    J = (1/12)* (average_chord*t) * ( (average_chord**2) *t**2)\n",
    "    f_torsion_mode = (1/(2*np.pi)) * np.sqrt( G*J/I )*(i/span)\n",
    "    natural_frequencies.append( f_torsion_mode )\n",
    "    print(\"torision mode check: \", f_torsion_mode)\n",
    "\n",
    "###NOTE: bug in torision mode frequency?\n",
    "\n",
    "natural_frequencies.sort()\n",
    "print(\"first 3 natural frequencies: \", natural_frequencies[0],\"(Hz)\",natural_frequencies[1],\"(Hz)\",natural_frequencies[2],\"(Hz)\",)\n",
    "\n",
    "eigenvalues = [e1,e2,e3]\n",
    "nas_frequencies = []\n",
    "for eig in eigenvalues:\n",
    "    nas_frequencies.append( np.sqrt(eig)/(2*np.pi))\n",
    "print(\"frequencies from nastran sol 103: \", nas_frequencies[0],\"(Hz)\",nas_frequencies[1],\"(Hz)\",nas_frequencies[2],\"(Hz)\",)\n",
    "\n"
   ]
  }
 ],
 "metadata": {
  "kernelspec": {
   "display_name": "Python 3",
   "language": "python",
   "name": "python3"
  },
  "language_info": {
   "codemirror_mode": {
    "name": "ipython",
    "version": 3
   },
   "file_extension": ".py",
   "mimetype": "text/x-python",
   "name": "python",
   "nbconvert_exporter": "python",
   "pygments_lexer": "ipython3",
   "version": "3.11.5"
  }
 },
 "nbformat": 4,
 "nbformat_minor": 2
}
