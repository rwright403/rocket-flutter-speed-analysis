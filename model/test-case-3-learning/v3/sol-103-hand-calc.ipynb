{
 "cells": [
  {
   "cell_type": "markdown",
   "metadata": {},
   "source": [
    "Goal: Use a rough hand calc to validate the first few natural frequencies we obtain from sol 103"
   ]
  },
  {
   "cell_type": "code",
   "execution_count": 38,
   "metadata": {
    "vscode": {
     "languageId": "powershell"
    }
   },
   "outputs": [
    {
     "name": "stdout",
     "output_type": "stream",
     "text": [
      "Requirement already satisfied: pynastran in c:\\users\\rwrig\\appdata\\local\\programs\\python\\python311\\lib\\site-packages (1.4.1)\n",
      "Requirement already satisfied: numpy<2 in c:\\users\\rwrig\\appdata\\local\\programs\\python\\python311\\lib\\site-packages (from pynastran) (1.23.4)\n",
      "Requirement already satisfied: scipy<2 in c:\\users\\rwrig\\appdata\\local\\programs\\python\\python311\\lib\\site-packages (from pynastran) (1.11.3)\n",
      "Requirement already satisfied: matplotlib in c:\\users\\rwrig\\appdata\\local\\programs\\python\\python311\\lib\\site-packages (from pynastran) (3.7.2)\n",
      "Requirement already satisfied: cpylog>=1.4.0 in c:\\users\\rwrig\\appdata\\local\\programs\\python\\python311\\lib\\site-packages (from pynastran) (1.5.0)\n",
      "Requirement already satisfied: docopt-ng>=0.9.0 in c:\\users\\rwrig\\appdata\\local\\programs\\python\\python311\\lib\\site-packages (from pynastran) (0.9.0)\n",
      "Requirement already satisfied: colorama in c:\\users\\rwrig\\appdata\\local\\programs\\python\\python311\\lib\\site-packages (from pynastran) (0.4.6)\n",
      "Requirement already satisfied: contourpy>=1.0.1 in c:\\users\\rwrig\\appdata\\local\\programs\\python\\python311\\lib\\site-packages (from matplotlib->pynastran) (1.1.0)\n",
      "Requirement already satisfied: cycler>=0.10 in c:\\users\\rwrig\\appdata\\local\\programs\\python\\python311\\lib\\site-packages (from matplotlib->pynastran) (0.11.0)\n",
      "Requirement already satisfied: fonttools>=4.22.0 in c:\\users\\rwrig\\appdata\\local\\programs\\python\\python311\\lib\\site-packages (from matplotlib->pynastran) (4.42.1)\n",
      "Requirement already satisfied: kiwisolver>=1.0.1 in c:\\users\\rwrig\\appdata\\local\\programs\\python\\python311\\lib\\site-packages (from matplotlib->pynastran) (1.4.5)\n",
      "Requirement already satisfied: packaging>=20.0 in c:\\users\\rwrig\\appdata\\local\\programs\\python\\python311\\lib\\site-packages (from matplotlib->pynastran) (23.1)\n",
      "Requirement already satisfied: pillow>=6.2.0 in c:\\users\\rwrig\\appdata\\local\\programs\\python\\python311\\lib\\site-packages (from matplotlib->pynastran) (10.0.0)\n",
      "Requirement already satisfied: pyparsing<3.1,>=2.3.1 in c:\\users\\rwrig\\appdata\\local\\programs\\python\\python311\\lib\\site-packages (from matplotlib->pynastran) (3.0.9)\n",
      "Requirement already satisfied: python-dateutil>=2.7 in c:\\users\\rwrig\\appdata\\local\\programs\\python\\python311\\lib\\site-packages (from matplotlib->pynastran) (2.8.2)\n",
      "Requirement already satisfied: six>=1.5 in c:\\users\\rwrig\\appdata\\local\\programs\\python\\python311\\lib\\site-packages (from python-dateutil>=2.7->matplotlib->pynastran) (1.16.0)\n",
      "Note: you may need to restart the kernel to use updated packages.\n"
     ]
    },
    {
     "name": "stderr",
     "output_type": "stream",
     "text": [
      "WARNING: Ignoring invalid distribution ~umpy (c:\\Users\\rwrig\\AppData\\Local\\Programs\\Python\\Python311\\Lib\\site-packages)\n",
      "DEPRECATION: Loading egg at c:\\users\\rwrig\\appdata\\local\\programs\\python\\python311\\lib\\site-packages\\suave-2.5.2-py3.11.egg is deprecated. pip 25.1 will enforce this behaviour change. A possible replacement is to use pip for package installation. Discussion can be found at https://github.com/pypa/pip/issues/12330\n",
      "WARNING: Ignoring invalid distribution ~umpy (c:\\Users\\rwrig\\AppData\\Local\\Programs\\Python\\Python311\\Lib\\site-packages)\n"
     ]
    }
   ],
   "source": [
    "pip install --user pynastran"
   ]
  },
  {
   "cell_type": "code",
   "execution_count": null,
   "metadata": {},
   "outputs": [
    {
     "name": "stdout",
     "output_type": "stream",
     "text": [
      "torision mode check:  155533111.8936543\n",
      "torision mode check:  311066223.7873086\n",
      "torision mode check:  466599335.68096286\n",
      "first 3 natural frequencies:  103.37038960678342 (Hz) 413.4815584271337 (Hz) 930.3335064610509 (Hz)\n",
      "frequencies from nastran sol 103:  3783.061440651002 (Hz) 8019.274150455206 (Hz) 9082.310385346746 (Hz)\n"
     ]
    }
   ],
   "source": [
    "import numpy as np\n",
    "\n",
    "### input from nastran sol 103\n",
    "e1 = 5.649975E+08 #(rad^2/s^2)\n",
    "e2 = 2.538808E+09 #(rad^2/s^2)\n",
    "e3 = 3.256510E+09 #(rad^2/s^2)\n",
    "\n",
    "\n",
    "### Al Material Properties:\n",
    "\n",
    "#rho = 2700 #kg/m^3\n",
    "E = 68.9e9 #Pa\n",
    "G = 26e9 #Pa\n",
    "\n",
    "poisson = E/(2*G)-1\n",
    "#print(poisson_al)\n",
    "\n",
    "### Fin dimensions\n",
    "root_chord = 0.2025 #m\n",
    "tip_chord = 0.1275 #m\n",
    "span = 0.165 #m\n",
    "t = 2e-3 #m\n",
    "\n",
    "average_chord = (root_chord+tip_chord)/2\n",
    "\n",
    "#NOTE: PLATE IS ROUGHLY A SQUARE SO APPROXIMATING FIN AS RECTANGULAR CANTILEVER PLATE TO CHECK NATURAL FREQUENCIES:\n",
    "\n",
    "n = 3 #number of modes to solve\n",
    "natural_frequencies = []\n",
    "\n",
    "for i in range(1, n+1):\n",
    "    #solve bending mode:\n",
    "    D = (E*t**3)/(12*(1-poisson**2))\n",
    "    f_bending_mode = (1/(2*np.pi)) *np.sqrt( (D*np.pi**4)/(span**4)*(i/2)**4 )\n",
    "    natural_frequencies.append( f_bending_mode )\n",
    "\n",
    "\n",
    "    #solve torision mode\n",
    "    I = (average_chord*t**3)/12\n",
    "    J = (average_chord*t)/3\n",
    "    f_torsion_mode = (1/(2*np.pi)) * np.sqrt( G*J/I )*(i/span)\n",
    "    natural_frequencies.append( f_torsion_mode )\n",
    "    print(\"torision mode check: \", f_torsion_mode)\n",
    "\n",
    "###NOTE: bug in torision mode frequency?\n",
    "\n",
    "natural_frequencies.sort()\n",
    "print(\"first 3 natural frequencies: \", natural_frequencies[0],\"(Hz)\",natural_frequencies[1],\"(Hz)\",natural_frequencies[2],\"(Hz)\",)\n",
    "\n",
    "eigenvalues = [e1,e2,e3]\n",
    "nas_frequencies = []\n",
    "for eig in eigenvalues:\n",
    "    nas_frequencies.append( np.sqrt(eig)/(2*np.pi))\n",
    "print(\"frequencies from nastran sol 103: \", nas_frequencies[0],\"(Hz)\",nas_frequencies[1],\"(Hz)\",nas_frequencies[2],\"(Hz)\",)\n",
    "\n"
   ]
  }
 ],
 "metadata": {
  "kernelspec": {
   "display_name": "Python 3",
   "language": "python",
   "name": "python3"
  },
  "language_info": {
   "codemirror_mode": {
    "name": "ipython",
    "version": 3
   },
   "file_extension": ".py",
   "mimetype": "text/x-python",
   "name": "python",
   "nbconvert_exporter": "python",
   "pygments_lexer": "ipython3",
   "version": "3.11.5"
  }
 },
 "nbformat": 4,
 "nbformat_minor": 2
}
